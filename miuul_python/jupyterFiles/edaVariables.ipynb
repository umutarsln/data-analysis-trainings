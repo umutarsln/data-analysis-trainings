{
 "cells": [
  {
   "cell_type": "code",
   "execution_count": 3,
   "metadata": {},
   "outputs": [],
   "source": [
    "import pandas as pd\n",
    "import numpy as np\n",
    "import seaborn as sns\n",
    "from matplotlib import pyplot as plt"
   ]
  },
  {
   "cell_type": "code",
   "execution_count": 4,
   "metadata": {},
   "outputs": [],
   "source": [
    "pd.set_option(\"display.max_columns\",None)\n",
    "pd.set_option(\"display.width\",500)\n",
    "df = sns.load_dataset(\"titanic\")"
   ]
  },
  {
   "cell_type": "code",
   "execution_count": 5,
   "metadata": {},
   "outputs": [],
   "source": [
    "for col in df.columns:\n",
    "    if df[col].dtypes == \"bool\":\n",
    "        df[col] = df[col].astype(int)"
   ]
  },
  {
   "cell_type": "code",
   "execution_count": 6,
   "metadata": {},
   "outputs": [],
   "source": [
    "def grab_col_names(dataframe, cat_th = 10, car_th = 20):\n",
    "    \"\"\"\n",
    "    Veri setindeki kategorik, numerik ve kategorik fakat kardinal değişkenlerin isimlerini verir.\n",
    "\n",
    "    Parameters\n",
    "    ----------\n",
    "    dataframe : dataframe\n",
    "        Değişken isimleri alınmak istenen dataframe'dir\n",
    "    cat_th : int,float\n",
    "        Numerik fakat kategorik olan değişkenler için sınıf eşik değeri\n",
    "    car_th : int,float\n",
    "        Kategorik fakat kardinal olan değişkenler için sınıf eşik değeri\n",
    "    \n",
    "    Returns\n",
    "    ----------\n",
    "    cat_cols : list\n",
    "        Kategorik değişken listesi\n",
    "    num_cols : list\n",
    "        Numerik değişken listesi\n",
    "    cat_but_car : list\n",
    "        Kategorik görünümlü kardinal değişken listesi\n",
    "\n",
    "    \"\"\"\n",
    "\n",
    "    cat_cols = [col for col in df.columns if str(df[col].dtypes) in [\"category\",\"object\",\"bool\"]]\n",
    "    num_but_cat = [col for col in df.columns if (df[col].dtypes in [\"int\",\"float\"]) and (df[col].nunique() < 10)]\n",
    "    cat_but_car = [col for col in df.columns if df[col].nunique() > 20 and str(df[col].dtypes) in [\"category\",\"object\"]]\n",
    "    cat_cols = cat_cols + num_but_cat\n",
    "    cat_cols = [col for col in cat_cols if col not in cat_but_car]\n",
    "    num_cols = [col for col in df.columns if df[col].dtypes in [\"int\",\"float\"]]\n",
    "    num_cols = [col for col in num_cols if col not in cat_cols]\n",
    "\n",
    "    print(f\"Observations: {dataframe.shape[0]}\")\n",
    "    print(f\"Variables: {dataframe.shape[1]}\")\n",
    "    print(f\"cat_cols: {len(cat_cols)}\")\n",
    "    print(f\"num_cols: {len(num_cols)}\")\n",
    "    print(f\"cat_but_car: {len(cat_but_car)}\")\n",
    "    print(f\"num_but_cat: {len(num_but_cat)}\")\n",
    "\n",
    "    return cat_cols,num_cols,cat_but_car\n"
   ]
  },
  {
   "cell_type": "code",
   "execution_count": 7,
   "metadata": {},
   "outputs": [
    {
     "name": "stdout",
     "output_type": "stream",
     "text": [
      "Observations: 891\n",
      "Variables: 15\n",
      "cat_cols: 13\n",
      "num_cols: 2\n",
      "cat_but_car: 0\n",
      "num_but_cat: 6\n"
     ]
    }
   ],
   "source": [
    "cat_cols,num_cols,cat_but_car = grab_col_names(df)"
   ]
  },
  {
   "cell_type": "markdown",
   "metadata": {},
   "source": [
    "# Hedef Değişkenin Kategorik Değişkenler ile Analizi"
   ]
  },
  {
   "cell_type": "code",
   "execution_count": 8,
   "metadata": {},
   "outputs": [
    {
     "data": {
      "text/plain": [
       "sex\n",
       "female    0.742038\n",
       "male      0.188908\n",
       "Name: survived, dtype: float64"
      ]
     },
     "execution_count": 8,
     "metadata": {},
     "output_type": "execute_result"
    }
   ],
   "source": [
    "df.groupby(\"sex\")[\"survived\"].mean()"
   ]
  },
  {
   "cell_type": "code",
   "execution_count": 9,
   "metadata": {},
   "outputs": [],
   "source": [
    "def target_summary_with_cat(dataframe, target, categorical_col):\n",
    "    print(pd.DataFrame({\"Target_Mean\" : dataframe.groupby(categorical_col)[target].mean()}))"
   ]
  },
  {
   "cell_type": "code",
   "execution_count": 10,
   "metadata": {},
   "outputs": [
    {
     "name": "stdout",
     "output_type": "stream",
     "text": [
      "        Target_Mean\n",
      "sex                \n",
      "female     0.742038\n",
      "male       0.188908\n"
     ]
    }
   ],
   "source": [
    "target_summary_with_cat(df, \"survived\", \"sex\")"
   ]
  },
  {
   "cell_type": "code",
   "execution_count": 11,
   "metadata": {},
   "outputs": [
    {
     "name": "stdout",
     "output_type": "stream",
     "text": [
      "        Target_Mean\n",
      "pclass             \n",
      "1          0.629630\n",
      "2          0.472826\n",
      "3          0.242363\n"
     ]
    }
   ],
   "source": [
    "target_summary_with_cat(df, \"survived\", \"pclass\")"
   ]
  },
  {
   "cell_type": "code",
   "execution_count": 12,
   "metadata": {},
   "outputs": [
    {
     "name": "stdout",
     "output_type": "stream",
     "text": [
      "        Target_Mean\n",
      "sex                \n",
      "female     0.742038\n",
      "male       0.188908\n",
      "          Target_Mean\n",
      "embarked             \n",
      "C            0.553571\n",
      "Q            0.389610\n",
      "S            0.336957\n",
      "        Target_Mean\n",
      "class              \n",
      "First      0.629630\n",
      "Second     0.472826\n",
      "Third      0.242363\n",
      "       Target_Mean\n",
      "who               \n",
      "child     0.590361\n",
      "man       0.163873\n",
      "woman     0.756458\n",
      "      Target_Mean\n",
      "deck             \n",
      "A        0.466667\n",
      "B        0.744681\n",
      "C        0.593220\n",
      "D        0.757576\n",
      "E        0.750000\n",
      "F        0.615385\n",
      "G        0.500000\n",
      "             Target_Mean\n",
      "embark_town             \n",
      "Cherbourg       0.553571\n",
      "Queenstown      0.389610\n",
      "Southampton     0.336957\n",
      "       Target_Mean\n",
      "alive             \n",
      "no             0.0\n",
      "yes            1.0\n",
      "          Target_Mean\n",
      "survived             \n",
      "0                 0.0\n",
      "1                 1.0\n",
      "        Target_Mean\n",
      "pclass             \n",
      "1          0.629630\n",
      "2          0.472826\n",
      "3          0.242363\n",
      "       Target_Mean\n",
      "sibsp             \n",
      "0         0.345395\n",
      "1         0.535885\n",
      "2         0.464286\n",
      "3         0.250000\n",
      "4         0.166667\n",
      "5         0.000000\n",
      "8         0.000000\n",
      "       Target_Mean\n",
      "parch             \n",
      "0         0.343658\n",
      "1         0.550847\n",
      "2         0.500000\n",
      "3         0.600000\n",
      "4         0.000000\n",
      "5         0.200000\n",
      "6         0.000000\n",
      "            Target_Mean\n",
      "adult_male             \n",
      "0              0.717514\n",
      "1              0.163873\n",
      "       Target_Mean\n",
      "alone             \n",
      "0         0.505650\n",
      "1         0.303538\n"
     ]
    }
   ],
   "source": [
    "for col in cat_cols:\n",
    "    target_summary_with_cat(df, \"survived\",col)\n"
   ]
  },
  {
   "cell_type": "markdown",
   "metadata": {},
   "source": [
    "# Hedef Değişkenin Sayısal Değişkenlerle Analizi"
   ]
  },
  {
   "cell_type": "code",
   "execution_count": 13,
   "metadata": {},
   "outputs": [
    {
     "data": {
      "text/html": [
       "<div>\n",
       "<style scoped>\n",
       "    .dataframe tbody tr th:only-of-type {\n",
       "        vertical-align: middle;\n",
       "    }\n",
       "\n",
       "    .dataframe tbody tr th {\n",
       "        vertical-align: top;\n",
       "    }\n",
       "\n",
       "    .dataframe thead th {\n",
       "        text-align: right;\n",
       "    }\n",
       "</style>\n",
       "<table border=\"1\" class=\"dataframe\">\n",
       "  <thead>\n",
       "    <tr style=\"text-align: right;\">\n",
       "      <th></th>\n",
       "      <th>age</th>\n",
       "    </tr>\n",
       "    <tr>\n",
       "      <th>survived</th>\n",
       "      <th></th>\n",
       "    </tr>\n",
       "  </thead>\n",
       "  <tbody>\n",
       "    <tr>\n",
       "      <th>0</th>\n",
       "      <td>30.626179</td>\n",
       "    </tr>\n",
       "    <tr>\n",
       "      <th>1</th>\n",
       "      <td>28.343690</td>\n",
       "    </tr>\n",
       "  </tbody>\n",
       "</table>\n",
       "</div>"
      ],
      "text/plain": [
       "                age\n",
       "survived           \n",
       "0         30.626179\n",
       "1         28.343690"
      ]
     },
     "execution_count": 13,
     "metadata": {},
     "output_type": "execute_result"
    }
   ],
   "source": [
    "#df.groupby(\"survived\")[\"age\"].mean()\n",
    "df.groupby(\"survived\").agg({\"age\": \"mean\"})"
   ]
  },
  {
   "cell_type": "code",
   "execution_count": 14,
   "metadata": {},
   "outputs": [],
   "source": [
    "def target_summary_with_num(dataframe, target, numerical_col):\n",
    "    print(pd.DataFrame({f\"{numerical_col} mean\" : dataframe.groupby(target)[numerical_col].mean()}))"
   ]
  },
  {
   "cell_type": "code",
   "execution_count": 15,
   "metadata": {},
   "outputs": [
    {
     "name": "stdout",
     "output_type": "stream",
     "text": [
      "           age mean\n",
      "survived           \n",
      "0         30.626179\n",
      "1         28.343690\n"
     ]
    }
   ],
   "source": [
    "target_summary_with_num(df, \"survived\", \"age\")"
   ]
  },
  {
   "cell_type": "code",
   "execution_count": 17,
   "metadata": {},
   "outputs": [
    {
     "name": "stdout",
     "output_type": "stream",
     "text": [
      "           age mean\n",
      "survived           \n",
      "0         30.626179\n",
      "1         28.343690\n",
      "          fare mean\n",
      "survived           \n",
      "0         22.117887\n",
      "1         48.395408\n"
     ]
    }
   ],
   "source": [
    "for col in num_cols:\n",
    "    target_summary_with_num(df, \"survived\", col)"
   ]
  }
 ],
 "metadata": {
  "kernelspec": {
   "display_name": "base",
   "language": "python",
   "name": "python3"
  },
  "language_info": {
   "codemirror_mode": {
    "name": "ipython",
    "version": 3
   },
   "file_extension": ".py",
   "mimetype": "text/x-python",
   "name": "python",
   "nbconvert_exporter": "python",
   "pygments_lexer": "ipython3",
   "version": "3.9.7"
  },
  "orig_nbformat": 4
 },
 "nbformat": 4,
 "nbformat_minor": 2
}
