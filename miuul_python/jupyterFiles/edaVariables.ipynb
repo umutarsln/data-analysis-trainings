{
 "cells": [
  {
   "cell_type": "code",
   "execution_count": 1,
   "metadata": {},
   "outputs": [],
   "source": [
    "import pandas as pd\n",
    "import numpy as np\n",
    "import seaborn as sns\n",
    "from matplotlib import pyplot as plt"
   ]
  },
  {
   "cell_type": "code",
   "execution_count": 2,
   "metadata": {},
   "outputs": [],
   "source": [
    "pd.set_option(\"display.max_columns\",None)\n",
    "pd.set_option(\"display.width\",500)\n",
    "df = sns.load_dataset(\"titanic\")"
   ]
  },
  {
   "cell_type": "code",
   "execution_count": 4,
   "metadata": {},
   "outputs": [],
   "source": [
    "def grab_col_names(dataframe, cat_th, car_th):\n",
    "    \"\"\"\n",
    "    Veri setindeki kategorik, numerik ve kategorik fakat kardinal değişkenlerin isimlerini verir.\n",
    "\n",
    "    Parameters\n",
    "    ----------\n",
    "    dataframe : dataframe\n",
    "        Değişken isimleri alınmak istenen dataframe'dir\n",
    "    cat_th : int,float\n",
    "        Numerik fakat kategorik olan değişkenler için sınıf eşik değeri\n",
    "    car_th : int,float\n",
    "        Kategorik fakat kardinal olan değişkenler için sınıf eşik değeri\n",
    "    \n",
    "    Returns\n",
    "    ----------\n",
    "    cat_cols : list\n",
    "        Kategorik değişken listesi\n",
    "    num_cols : list\n",
    "        Numerik değişken listesi\n",
    "    cat_but_car : list\n",
    "        Kategorik görünümlü kardinal değişken listesi\n",
    "\n",
    "    \"\"\"\n",
    "\n",
    "    cat_cols = [col for col in df.columns if str(df[col].dtypes) in [\"category\",\"object\",\"bool\"]]\n",
    "    num_but_cat = [col for col in df.columns if (df[col].dtypes in [\"int\",\"float\"]) and (df[col].nunique() < 10)]\n",
    "    cat_but_car = [col for col in df.columns if df[col].nunique() > 20 and str(df[col].dtypes) in [\"category\",\"object\"]]\n",
    "    cat_cols = cat_cols + num_but_cat\n",
    "    cat_cols = [col for col in cat_cols if col not in cat_but_car]\n",
    "    num_cols = [col for col in df.columns if df[col].dtypes in [\"int\",\"float\"]]\n",
    "    num_cols = [col for col in num_cols if col not in cat_cols]"
   ]
  },
  {
   "cell_type": "code",
   "execution_count": null,
   "metadata": {},
   "outputs": [],
   "source": []
  }
 ],
 "metadata": {
  "kernelspec": {
   "display_name": "base",
   "language": "python",
   "name": "python3"
  },
  "language_info": {
   "codemirror_mode": {
    "name": "ipython",
    "version": 3
   },
   "file_extension": ".py",
   "mimetype": "text/x-python",
   "name": "python",
   "nbconvert_exporter": "python",
   "pygments_lexer": "ipython3",
   "version": "3.9.7"
  },
  "orig_nbformat": 4
 },
 "nbformat": 4,
 "nbformat_minor": 2
}
